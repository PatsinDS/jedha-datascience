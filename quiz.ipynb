{
 "cells": [
  {
   "cell_type": "code",
   "execution_count": null,
   "metadata": {},
   "outputs": [],
   "source": [
    "nb_de_chances = 3\n",
    "\n",
    "def quizz(question, response, nb_de_chances):\n",
    "    reply= input(question)\n",
    "    while reply != response:\n",
    "        nb_de_chances -= 1\n",
    "        if nb_de_chances > 0:\n",
    "            if nb_de_chances == 1:\n",
    "                print(\"Dommage ! Il te reste {} chance\".format(nb_de_chances))\n",
    "            else:\n",
    "                print(\"Dommage ! Il te reste {} chances\".format(nb_de_chances))\n",
    "        else:\n",
    "            print(\"Oh non ! Tu as perdu le jeu...\")\n",
    "            return nb_de_chances\n",
    "        reply= input(question)\n",
    "    return nb_de_chances\n",
    "            \n",
    "print(\"Voici notre quiz, tu as trois chances !\")\n",
    "nb_de_chances = quizz(\"Combien de fois la France a gagné la coupe du monde ? \", \"2\", nb_de_chances)\n",
    "if nb_de_chances > 0:\n",
    "    nb_de_chances = quizz(\"Quand a été fondé Apple ? \", \"1976\", nb_de_chances)\n",
    "if nb_de_chances > 0:\n",
    "    nb_de_chances = quizz(\"Qui a fondé SpaceX ? \", \"elon musk\", nb_de_chances) \n",
    "if nb_de_chances > 0: \n",
    "        print(\"Bravo ! Tu as gagné le quiz !\")\n"
   ]
  }
 ],
 "metadata": {
  "kernelspec": {
   "display_name": "base",
   "language": "python",
   "name": "python3"
  },
  "language_info": {
   "codemirror_mode": {
    "name": "ipython",
    "version": 3
   },
   "file_extension": ".py",
   "mimetype": "text/x-python",
   "name": "python",
   "nbconvert_exporter": "python",
   "pygments_lexer": "ipython3",
   "version": "3.11.8"
  }
 },
 "nbformat": 4,
 "nbformat_minor": 2
}
