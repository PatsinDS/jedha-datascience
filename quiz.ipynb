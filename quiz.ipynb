{
 "cells": [
  {
   "cell_type": "code",
   "execution_count": 2,
   "metadata": {},
   "outputs": [
    {
     "name": "stdout",
     "output_type": "stream",
     "text": [
      "Voici notre quiz, tu as trois chances !\n",
      "Bravo ! Tu as gagné le quiz !\n",
      "Bravo ! Tu as gagné le quiz !\n",
      "Dommage ! Il te reste 2 chances\n",
      "Dommage ! Il te reste 1 chances\n",
      "Bravo ! Tu as gagné le quiz !\n"
     ]
    }
   ],
   "source": [
    "NB_DE_CHANCES = 3\n",
    "def quizz(question, response, nb_chances):\n",
    "    reply= input(question)\n",
    "    nb_chances -= 1\n",
    "\n",
    "    while reply != response:\n",
    "        if nb_chances > 0:\n",
    "            print(\"Dommage ! Il te reste {} chances\".format(nb_chances))\n",
    "        else:\n",
    "            print(\"Oh non ! Tu as perdu le jeu...\")\n",
    "            break\n",
    "        reply= input(question)\n",
    "        nb_chances -= 1\n",
    "    if reply == response: \n",
    "        print(\"Bravo ! Tu as gagné le quiz !\")\n",
    "        \n",
    "print(\"Voici notre quiz, tu as trois chances !\")\n",
    "quizz(\"Combien de fois la France a gagné la coupe du monde ? \", \"2\", NB_DE_CHANCES)\n",
    "quizz(\"Quand a été fondé Apple ? \", \"1976\", NB_DE_CHANCES)\n",
    "quizz(\"Qui a fondé SpaceX ? \", \"elon musk\", NB_DE_CHANCES) "
   ]
  }
 ],
 "metadata": {
  "kernelspec": {
   "display_name": "base",
   "language": "python",
   "name": "python3"
  },
  "language_info": {
   "codemirror_mode": {
    "name": "ipython",
    "version": 3
   },
   "file_extension": ".py",
   "mimetype": "text/x-python",
   "name": "python",
   "nbconvert_exporter": "python",
   "pygments_lexer": "ipython3",
   "version": "3.11.8"
  }
 },
 "nbformat": 4,
 "nbformat_minor": 2
}
