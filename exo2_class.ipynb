{
 "cells": [
  {
   "cell_type": "code",
   "execution_count": 1,
   "metadata": {},
   "outputs": [
    {
     "name": "stdout",
     "output_type": "stream",
     "text": [
      "Nombre de sieges utilisable(s) bmw = 50\n",
      "Nombre de sieges utilisable(s) bmw = 30\n",
      "Nombre de sieges utilisable(s) audi = 60\n",
      "Nombre de sieges utilisable(s) audi = 40\n"
     ]
    }
   ],
   "source": [
    "#EXO1\n",
    "#créer classe voiture\n",
    "#attribut interne siège initialisée à 5\n",
    "#2 méthodes : trouer siège, afficher nb sièges\n",
    "\n",
    "class Voiture():\n",
    "    def __init__(self, siege=5):\n",
    "        self.siege = siege\n",
    "\n",
    "    def trouer_siege(self, nb):\n",
    "        self.siege -= nb\n",
    "        return self.siege\n",
    "\n",
    "    def afficher_siege(self):\n",
    "        return self.siege\n",
    "\n",
    "#EXO 2\n",
    "#créer 2 instances de voiture audi et bmw avec 50 sièges\n",
    "#trouer 2 sièges bmw\n",
    "#créer boucle while qui permets de trouer autant de sièges chez audi qu'il y en a de troués chez bmw\n",
    "\n",
    "audi = Voiture(80)\n",
    "bmw = Voiture(50)\n",
    "delta_siege = audi.siege - bmw.siege\n",
    "print(\"Nombre de sieges utilisable(s) bmw = {}\".format(bmw.siege))\n",
    "bmw.trouer_siege(20)\n",
    "print(\"Nombre de sieges utilisable(s) bmw = {}\".format(bmw.siege))\n",
    "print(\"Nombre de sieges utilisable(s) audi = {}\".format(audi.siege))\n",
    "while((audi.siege - delta_siege) != bmw.siege):\n",
    "  audi.trouer_siege(1)\n",
    "print(\"Nombre de sieges utilisable(s) audi = {}\".format(audi.siege))\n"
   ]
  }
 ],
 "metadata": {
  "kernelspec": {
   "display_name": "Python 3",
   "language": "python",
   "name": "python3"
  },
  "language_info": {
   "codemirror_mode": {
    "name": "ipython",
    "version": 3
   },
   "file_extension": ".py",
   "mimetype": "text/x-python",
   "name": "python",
   "nbconvert_exporter": "python",
   "pygments_lexer": "ipython3",
   "version": "3.11.8"
  }
 },
 "nbformat": 4,
 "nbformat_minor": 2
}
